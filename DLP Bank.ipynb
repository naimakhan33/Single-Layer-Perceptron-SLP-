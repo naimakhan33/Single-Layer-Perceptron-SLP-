{
 "cells": [
  {
   "cell_type": "code",
   "execution_count": 218,
   "id": "1febd806",
   "metadata": {},
   "outputs": [
    {
     "name": "stdout",
     "output_type": "stream",
     "text": [
      "   customer_id  credit_score country  gender  age  tenure    balance  \\\n",
      "0     15634602           619  France  Female   42       2       0.00   \n",
      "1     15647311           608   Spain  Female   41       1   83807.86   \n",
      "2     15619304           502  France  Female   42       8  159660.80   \n",
      "3     15701354           699  France  Female   39       1       0.00   \n",
      "4     15737888           850   Spain  Female   43       2  125510.82   \n",
      "\n",
      "   products_number  credit_card  active_member  estimated_salary  churn  \n",
      "0                1            1              1         101348.88      1  \n",
      "1                1            0              1         112542.58      0  \n",
      "2                3            1              0         113931.57      1  \n",
      "3                2            0              0          93826.63      0  \n",
      "4                1            1              1          79084.10      0  \n"
     ]
    }
   ],
   "source": [
    "import pandas as pd\n",
    "import numpy as np\n",
    "\n",
    "import torch\n",
    "import torch.nn as nn\n",
    "import torch.optim as optim\n",
    "from torch.utils.data import DataLoader, TensorDataset\n",
    "from sklearn.model_selection import train_test_split\n",
    "import os\n",
    "\n",
    "\n",
    "dataset = pd.read_csv(r\"C:\\Users\\Ahsan\\Downloads\\archive (1)\\Bank Customer Churn Prediction.csv\")\n",
    "print(dataset.head())\n",
    "\n"
   ]
  },
  {
   "cell_type": "code",
   "execution_count": 219,
   "id": "d1133f5e",
   "metadata": {},
   "outputs": [
    {
     "data": {
      "text/plain": [
       "customer_id         0\n",
       "credit_score        0\n",
       "country             0\n",
       "gender              0\n",
       "age                 0\n",
       "tenure              0\n",
       "balance             0\n",
       "products_number     0\n",
       "credit_card         0\n",
       "active_member       0\n",
       "estimated_salary    0\n",
       "churn               0\n",
       "dtype: int64"
      ]
     },
     "execution_count": 219,
     "metadata": {},
     "output_type": "execute_result"
    }
   ],
   "source": [
    "dataset.isnull().sum()"
   ]
  },
  {
   "cell_type": "code",
   "execution_count": 220,
   "id": "e54a3adb",
   "metadata": {},
   "outputs": [],
   "source": [
    "input_data = dataset.iloc[:,:-1]\n",
    "output_data = dataset.iloc[:,:-1]"
   ]
  },
  {
   "cell_type": "code",
   "execution_count": 221,
   "id": "f38d1ef9",
   "metadata": {},
   "outputs": [],
   "source": [
    "\n",
    "# Separate numerical columns\n",
    "numeric_cols = input_data.select_dtypes(include=['int64', 'float64']).columns\n",
    "\n"
   ]
  },
  {
   "cell_type": "code",
   "execution_count": 222,
   "id": "5cca8af6",
   "metadata": {},
   "outputs": [],
   "source": [
    "# Separate categorical columns\n",
    "categorical_cols = input_data.select_dtypes(include=['object']).columns"
   ]
  },
  {
   "cell_type": "code",
   "execution_count": 223,
   "id": "afb41907",
   "metadata": {},
   "outputs": [],
   "source": [
    "ss = StandardScaler()\n",
    "input_data[numeric_cols] = ss.fit_transform(input_data[numeric_cols])\n"
   ]
  },
  {
   "cell_type": "code",
   "execution_count": 224,
   "id": "deca8cf8",
   "metadata": {},
   "outputs": [
    {
     "data": {
      "text/html": [
       "<div>\n",
       "<style scoped>\n",
       "    .dataframe tbody tr th:only-of-type {\n",
       "        vertical-align: middle;\n",
       "    }\n",
       "\n",
       "    .dataframe tbody tr th {\n",
       "        vertical-align: top;\n",
       "    }\n",
       "\n",
       "    .dataframe thead th {\n",
       "        text-align: right;\n",
       "    }\n",
       "</style>\n",
       "<table border=\"1\" class=\"dataframe\">\n",
       "  <thead>\n",
       "    <tr style=\"text-align: right;\">\n",
       "      <th></th>\n",
       "      <th>customer_id</th>\n",
       "      <th>credit_score</th>\n",
       "      <th>age</th>\n",
       "      <th>tenure</th>\n",
       "      <th>balance</th>\n",
       "      <th>products_number</th>\n",
       "      <th>credit_card</th>\n",
       "      <th>active_member</th>\n",
       "      <th>estimated_salary</th>\n",
       "      <th>country_Germany</th>\n",
       "      <th>country_Spain</th>\n",
       "      <th>gender_Male</th>\n",
       "    </tr>\n",
       "  </thead>\n",
       "  <tbody>\n",
       "    <tr>\n",
       "      <th>0</th>\n",
       "      <td>-0.783213</td>\n",
       "      <td>-0.326221</td>\n",
       "      <td>0.293517</td>\n",
       "      <td>-1.041760</td>\n",
       "      <td>-1.225848</td>\n",
       "      <td>-0.911583</td>\n",
       "      <td>0.646092</td>\n",
       "      <td>0.970243</td>\n",
       "      <td>0.021886</td>\n",
       "      <td>False</td>\n",
       "      <td>False</td>\n",
       "      <td>False</td>\n",
       "    </tr>\n",
       "    <tr>\n",
       "      <th>1</th>\n",
       "      <td>-0.606534</td>\n",
       "      <td>-0.440036</td>\n",
       "      <td>0.198164</td>\n",
       "      <td>-1.387538</td>\n",
       "      <td>0.117350</td>\n",
       "      <td>-0.911583</td>\n",
       "      <td>-1.547768</td>\n",
       "      <td>0.970243</td>\n",
       "      <td>0.216534</td>\n",
       "      <td>False</td>\n",
       "      <td>True</td>\n",
       "      <td>False</td>\n",
       "    </tr>\n",
       "    <tr>\n",
       "      <th>2</th>\n",
       "      <td>-0.995885</td>\n",
       "      <td>-1.536794</td>\n",
       "      <td>0.293517</td>\n",
       "      <td>1.032908</td>\n",
       "      <td>1.333053</td>\n",
       "      <td>2.527057</td>\n",
       "      <td>0.646092</td>\n",
       "      <td>-1.030670</td>\n",
       "      <td>0.240687</td>\n",
       "      <td>False</td>\n",
       "      <td>False</td>\n",
       "      <td>False</td>\n",
       "    </tr>\n",
       "    <tr>\n",
       "      <th>3</th>\n",
       "      <td>0.144767</td>\n",
       "      <td>0.501521</td>\n",
       "      <td>0.007457</td>\n",
       "      <td>-1.387538</td>\n",
       "      <td>-1.225848</td>\n",
       "      <td>0.807737</td>\n",
       "      <td>-1.547768</td>\n",
       "      <td>-1.030670</td>\n",
       "      <td>-0.108918</td>\n",
       "      <td>False</td>\n",
       "      <td>False</td>\n",
       "      <td>False</td>\n",
       "    </tr>\n",
       "    <tr>\n",
       "      <th>4</th>\n",
       "      <td>0.652659</td>\n",
       "      <td>2.063884</td>\n",
       "      <td>0.388871</td>\n",
       "      <td>-1.041760</td>\n",
       "      <td>0.785728</td>\n",
       "      <td>-0.911583</td>\n",
       "      <td>0.646092</td>\n",
       "      <td>0.970243</td>\n",
       "      <td>-0.365276</td>\n",
       "      <td>False</td>\n",
       "      <td>True</td>\n",
       "      <td>False</td>\n",
       "    </tr>\n",
       "  </tbody>\n",
       "</table>\n",
       "</div>"
      ],
      "text/plain": [
       "   customer_id  credit_score       age    tenure   balance  products_number  \\\n",
       "0    -0.783213     -0.326221  0.293517 -1.041760 -1.225848        -0.911583   \n",
       "1    -0.606534     -0.440036  0.198164 -1.387538  0.117350        -0.911583   \n",
       "2    -0.995885     -1.536794  0.293517  1.032908  1.333053         2.527057   \n",
       "3     0.144767      0.501521  0.007457 -1.387538 -1.225848         0.807737   \n",
       "4     0.652659      2.063884  0.388871 -1.041760  0.785728        -0.911583   \n",
       "\n",
       "   credit_card  active_member  estimated_salary  country_Germany  \\\n",
       "0     0.646092       0.970243          0.021886            False   \n",
       "1    -1.547768       0.970243          0.216534            False   \n",
       "2     0.646092      -1.030670          0.240687            False   \n",
       "3    -1.547768      -1.030670         -0.108918            False   \n",
       "4     0.646092       0.970243         -0.365276            False   \n",
       "\n",
       "   country_Spain  gender_Male  \n",
       "0          False        False  \n",
       "1           True        False  \n",
       "2          False        False  \n",
       "3          False        False  \n",
       "4           True        False  "
      ]
     },
     "execution_count": 224,
     "metadata": {},
     "output_type": "execute_result"
    }
   ],
   "source": [
    "# Encode categorical columns (One-Hot Encoding)\n",
    "input_data = pd.get_dummies(input_data, columns=categorical_cols, drop_first=True)\n",
    "\n",
    "input_data.head()\n"
   ]
  },
  {
   "cell_type": "code",
   "execution_count": 225,
   "id": "55b7df6d",
   "metadata": {},
   "outputs": [
    {
     "data": {
      "text/plain": [
       "(10000, 12)"
      ]
     },
     "execution_count": 225,
     "metadata": {},
     "output_type": "execute_result"
    }
   ],
   "source": [
    "input_data.shape"
   ]
  },
  {
   "cell_type": "code",
   "execution_count": 226,
   "id": "3bfe1f5f",
   "metadata": {},
   "outputs": [],
   "source": [
    "# 1. SAMPLE DATASET \n",
    "# Here we create a dummy dataset with 12 features and binary target\n",
    "np.random.seed(42)\n",
    "num_samples = 500\n",
    "num_features = 12\n",
    "\n",
    "X = pd.DataFrame(np.random.randn(num_samples, num_features), columns=[f'feat{i+1}' for i in range(num_features)])\n",
    "y = pd.Series(np.random.randint(0, 2, size=num_samples), name='target')  # binary labels 0/1\n",
    "\n",
    "#TRAIN/TEST SPLIT \n",
    "X_train, X_test, y_train, y_test = train_test_split(X, y, test_size=0.2, random_state=42)"
   ]
  },
  {
   "cell_type": "code",
   "execution_count": 227,
   "id": "ac8120df",
   "metadata": {},
   "outputs": [],
   "source": [
    "#  PREPROCESSING \n",
    "# Ensure numeric type\n",
    "X_train = X_train.apply(pd.to_numeric, errors='coerce').fillna(0).astype(np.float32)\n",
    "X_test  = X_test.apply(pd.to_numeric, errors='coerce').fillna(0).astype(np.float32)\n",
    "\n",
    "y_train = pd.to_numeric(y_train, errors='coerce').fillna(0).astype(np.float32)\n",
    "y_test  = pd.to_numeric(y_test, errors='coerce').fillna(0).astype(np.float32)\n"
   ]
  },
  {
   "cell_type": "code",
   "execution_count": 228,
   "id": "55908e79",
   "metadata": {},
   "outputs": [],
   "source": [
    "# Convert labels to 0/1 (binary)\n",
    "y_train = (y_train > 0).astype(np.float32)\n",
    "y_test  = (y_test > 0).astype(np.float32)"
   ]
  },
  {
   "cell_type": "code",
   "execution_count": 229,
   "id": "8a4fa16f",
   "metadata": {},
   "outputs": [],
   "source": [
    "\n",
    "#  CONVERT TO TORCH TENSORS \n",
    "X_train = torch.tensor(X_train.values, dtype=torch.float32)\n",
    "y_train = torch.tensor(y_train.values, dtype=torch.float32).view(-1, 1)\n",
    "\n",
    "X_test = torch.tensor(X_test.values, dtype=torch.float32)\n",
    "y_test = torch.tensor(y_test.values, dtype=torch.float32).view(-1, 1)"
   ]
  },
  {
   "cell_type": "code",
   "execution_count": 230,
   "id": "74f4e291",
   "metadata": {},
   "outputs": [],
   "source": [
    "# DATA LOADERS \n",
    "train_dataset = TensorDataset(X_train, y_train)\n",
    "test_dataset  = TensorDataset(X_test, y_test)\n",
    "\n",
    "train_loader = DataLoader(train_dataset, batch_size=32, shuffle=True)\n",
    "test_loader  = DataLoader(test_dataset, batch_size=32, shuffle=False)"
   ]
  },
  {
   "cell_type": "code",
   "execution_count": 231,
   "id": "3688abec",
   "metadata": {},
   "outputs": [
    {
     "name": "stdout",
     "output_type": "stream",
     "text": [
      "ANN_Model(\n",
      "  (layers): Sequential(\n",
      "    (0): Linear(in_features=12, out_features=16, bias=True)\n",
      "    (1): ReLU()\n",
      "    (2): Linear(in_features=16, out_features=8, bias=True)\n",
      "    (3): ReLU()\n",
      "    (4): Linear(in_features=8, out_features=1, bias=True)\n",
      "    (5): Sigmoid()\n",
      "  )\n",
      ")\n"
     ]
    }
   ],
   "source": [
    "# ANN MODEL \n",
    "class ANN_Model(nn.Module):\n",
    "    def __init__(self, input_size):\n",
    "        super(ANN_Model, self).__init__()\n",
    "        self.layers = nn.Sequential(\n",
    "            nn.Linear(input_size, 16),\n",
    "            nn.ReLU(),\n",
    "            nn.Linear(16, 8),\n",
    "            nn.ReLU(),\n",
    "            nn.Linear(8, 1),\n",
    "            nn.Sigmoid()\n",
    "        )\n",
    "\n",
    "    def forward(self, x):\n",
    "        return self.layers(x)\n",
    "\n",
    "model = ANN_Model(input_size=X_train.shape[1])\n",
    "print(model)\n"
   ]
  },
  {
   "cell_type": "code",
   "execution_count": 232,
   "id": "cc4fff8f",
   "metadata": {},
   "outputs": [],
   "source": [
    "#  LOSS & OPTIMIZER \n",
    "criterion = nn.BCELoss()\n",
    "optimizer = optim.Adam(model.parameters(), lr=0.001)"
   ]
  },
  {
   "cell_type": "code",
   "execution_count": 233,
   "id": "fec8d6fd",
   "metadata": {},
   "outputs": [
    {
     "name": "stdout",
     "output_type": "stream",
     "text": [
      "Epoch 1/10, Loss: 0.7041\n",
      "Epoch 2/10, Loss: 0.6782\n",
      "Epoch 3/10, Loss: 0.6963\n",
      "Epoch 4/10, Loss: 0.6638\n",
      "Epoch 5/10, Loss: 0.6985\n",
      "Epoch 6/10, Loss: 0.6978\n",
      "Epoch 7/10, Loss: 0.7062\n",
      "Epoch 8/10, Loss: 0.6747\n",
      "Epoch 9/10, Loss: 0.6680\n",
      "Epoch 10/10, Loss: 0.6910\n"
     ]
    }
   ],
   "source": [
    "# TRAINING \n",
    "num_epochs = 10\n",
    "for epoch in range(num_epochs):\n",
    "    model.train()\n",
    "    for X_batch, y_batch in train_loader:\n",
    "        outputs = model(X_batch)\n",
    "        loss = criterion(outputs, y_batch)\n",
    "\n",
    "        optimizer.zero_grad()\n",
    "        loss.backward()\n",
    "        optimizer.step()\n",
    "\n",
    "    print(f\"Epoch {epoch+1}/{num_epochs}, Loss: {loss.item():.4f}\")"
   ]
  },
  {
   "cell_type": "code",
   "execution_count": 234,
   "id": "e4e9fdfa",
   "metadata": {},
   "outputs": [
    {
     "name": "stdout",
     "output_type": "stream",
     "text": [
      " Accuracy on Test Set: 56.00%\n"
     ]
    }
   ],
   "source": [
    "# EVALUATION \n",
    "model.eval()\n",
    "correct, total = 0, 0\n",
    "with torch.no_grad():\n",
    "    for X_batch, y_batch in test_loader:\n",
    "        outputs = model(X_batch)\n",
    "        preds = (outputs > 0.5).float()\n",
    "        total += y_batch.size(0)\n",
    "        correct += (preds == y_batch).sum().item()\n",
    "\n",
    "print(f\" Accuracy on Test Set: {100 * correct / total:.2f}%\")"
   ]
  }
 ],
 "metadata": {
  "kernelspec": {
   "display_name": "tf_env",
   "language": "python",
   "name": "python3"
  },
  "language_info": {
   "codemirror_mode": {
    "name": "ipython",
    "version": 3
   },
   "file_extension": ".py",
   "mimetype": "text/x-python",
   "name": "python",
   "nbconvert_exporter": "python",
   "pygments_lexer": "ipython3",
   "version": "3.10.11"
  }
 },
 "nbformat": 4,
 "nbformat_minor": 5
}
